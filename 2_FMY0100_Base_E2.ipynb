{
  "nbformat": 4,
  "nbformat_minor": 0,
  "metadata": {
    "colab": {
      "provenance": [],
      "include_colab_link": true
    },
    "kernelspec": {
      "name": "python3",
      "display_name": "Python 3"
    },
    "language_info": {
      "name": "python"
    }
  },
  "cells": [
    {
      "cell_type": "markdown",
      "metadata": {
        "id": "view-in-github",
        "colab_type": "text"
      },
      "source": [
        "<a href=\"https://colab.research.google.com/github/JuanPabloArriagada/FML/blob/main/2_FMY0100_Base_E2.ipynb\" target=\"_parent\"><img src=\"https://colab.research.google.com/assets/colab-badge.svg\" alt=\"Open In Colab\"/></a>"
      ]
    },
    {
      "cell_type": "markdown",
      "source": [
        "# Evaluación 2 - Entrega Parcial Caso Semestral (Modelos de regresión)\n",
        "\n",
        "---\n",
        "\n",
        "\n",
        "\n",
        "**Autores:**\n",
        "1. Juan Pablo Arriagada\n",
        "2. Carlos Soto\n",
        "3. Jose Toledo\n",
        "\n",
        "**Correo Electrónico:**\n",
        "1. ju.arriagadar@duocuc.cl\n",
        "2. car.sotoa@duocuc.cl\n",
        "3. jo.toledoo@duocuc.cl\n",
        "\n",
        "**Fecha de Creación:** Octubre 2025\n",
        "\n",
        "**Versión:** 1.0  \n",
        "\n",
        "\n",
        "\n",
        "---\n",
        "\n",
        "## Descripción\n",
        "\n",
        "Este notebook corresponde al desarrollo de la entrega 2 de la asignatura electiva de Fundamentos de Machine Learning de DuocUC - Sede Concepción\n",
        "\n",
        "---\n",
        "\n",
        "## Requisitos de Software\n",
        "\n",
        "Este notebook fue desarrollado con Python 3.12. A continuación se listan las bibliotecas necesarias:\n",
        "\n",
        "-\n",
        "-\n",
        "\n",
        "Para verificar la versión instalada ejecutar usando el siguiente comando, usando la librería de la cual quieres saber la versión:\n",
        "\n",
        "```python\n",
        "import pandas as pd\n",
        "print(pd.__version__)\n",
        "````"
      ],
      "metadata": {
        "id": "wB85th6oNa2m"
      }
    },
    {
      "cell_type": "markdown",
      "source": [
        "# Modelos solicitados\n",
        "\n",
        "| Modelo                                                     | Variable dependiente (*y*, target) | Variables independientes (*X*, features)    |\n",
        "| ----------------------------------------- | ---------------------------------- | ------------------------------------------------- |\n",
        "| **Modelo 1: Predicción de supervivencia individual** | `TimeAlive` o `ScaledTimeAlive`    | `AvgCentroidDistance`, `TravelledDistance`, `AvgRoundVelocity`, `RoundStartingEquipmentValue`  |\n",
        "| **Modelo 2: Eficiencia económica**                      | `RoundStartingEquipmentValue`      | `RoundKills`, `RoundAssists`, `RoundHeadshots`                                                |\n",
        "| **Modelo 3: Estilo de movimiento**                   | `TravelledDistance`                | `TimeAlive`, `AvgRoundVelocity`                                                                 |"
      ],
      "metadata": {
        "id": "OvxyAa4vMany"
      }
    },
    {
      "cell_type": "markdown",
      "source": [
        "| Modelo                                                                                                          | Justificación                                                                             |\n",
        "| ---------------------------------------------------------- | ---------------------------------- |\n",
        "| **Modelo 1: Predicción de supervivencia individual** | Permite estimar si un jugador tiende a sobrevivir más según su movilidad y recursos       |\n",
        "| **Modelo 2: Eficiencia económica**                      |  Mide cuánto equipamiento se asocia con éxito (kills, headshots)                           |\n",
        "| **Modelo 3: Estilo de movimiento**                   | Analiza cómo la supervivencia y velocidad afectan la distancia recorrida                  |"
      ],
      "metadata": {
        "id": "3kf7vCaiMo4N"
      }
    },
    {
      "cell_type": "markdown",
      "source": [
        "## Lista de Cotejo\n",
        "\n",
        "**Ponderación total: 100 puntos (equivale al 30% de la nota final de la asignatura)**  \n",
        "\n",
        "| Nº | Criterio | Descripción del aspecto evaluado | Ponderación | Indicadores de logro | Penalizaciones |\n",
        "|----|-----------|----------------------------------|--------------|----------------------|----------------|\n",
        "| **1** | **Estructura general y formato (Notebook)** | Orden, claridad y cumplimiento de las fases 2–5 de CRISP-DM como secciones bien diferenciadas. Incluye títulos, subtítulos y redacción clara. | **10 pts** | ✅ Notebook bien estructurado con secciones numeradas.<br>✅ Claridad y coherencia.<br>✅ Imports al inicio del documento. | ❌ Falta de secciones o estructura desordenada (-3).<br>❌ Imports distribuidos o repetidos (-2).<br>❌ Mala organización o redacción (-5). |\n",
        "| **2** | **Fase 2: Entendimiento de los datos** | Análisis descriptivo de las variables dependientes e independientes: distribución, correlación, outliers, tratamiento de variables categóricas agregadas. | **15 pts** | ✅ Análisis visual y estadístico adecuado.<br>✅ Identifica correlaciones relevantes.<br>✅ Describe correctamente las variables categóricas nuevas.<br>✅ Interpretaciones conectadas con el contexto del juego. | ❌ Análisis incompleto o superficial (-5).<br>❌ Sin interpretación o fuera de contexto (-5). |\n",
        "| **3** | **Fase 3: Preparación de los datos** | Uso correcto de **pipelines** para tratamiento de datos numéricos y categóricos (imputación, escalado, codificación, etc.). | **20 pts** | ✅ Pipeline implementado correctamente.<br>✅ Incluye transformaciones acordes al tipo de variable.<br>✅ Integra las variables categóricas solicitadas.<br>✅ No hay pasos duplicados fuera del pipeline. | 🚨 **No uso de pipeline o uso incorrecto: -10 pts.**<br>❌ Preparación manual sin justificación (-5).<br>❌ No diferencia entre numéricas y categóricas (-5). |\n",
        "| **4** | **Fase 4: Modelado (Entrenamiento)** | Implementación del modelo de regresión usando pipeline. Entrenamiento correcto de los tres modelos solicitados. | **20 pts** | ✅ Uso del pipeline para el flujo completo (preprocesamiento + modelo).<br>✅ Modelo adecuado al tipo de variable dependiente.<br>✅ Entrenamiento exitoso (fit correcto). | 🚨 **Creación del modelo fuera del pipeline: -10 pts.**<br>❌ Modelo incorrecto o sin entrenar (-5).<br>❌ Repite código sin modularización (-3). |\n",
        "| **5** | **Fase 5: Evaluación del modelo** | Evaluación del desempeño con R², MAE y MSLE + interpretación en contexto del negocio. | **15 pts** | ✅ Calcula correctamente todas las métricas.<br>✅ Interpreta cada una en términos del negocio.<br>✅ Compara resultados entre modelos si aplica. | ❌ Falta alguna métrica (-5).<br>❌ Interpretación técnica sin conexión con el negocio (-5).<br>❌ Errores de cálculo o mal uso de métricas (-5). |\n",
        "| **6** | **Predicción con datos aleatorios y su interpretación** | Genera entrada nueva (aleatoria o simulada), predice y explica el resultado en términos del negocio. | **10 pts** | ✅ Entrada creada con lógica (valores coherentes).<br>✅ Predicción ejecutada correctamente.<br>✅ Interpretación coherente con el modelo. | ❌ No incluye ejemplo de predicción (-5).<br>❌ Interpretación fuera de contexto (-3). |\n",
        "| **7** | **Redacción, ortografía y presentación** | Calidad comunicativa del documento: ortografía, coherencia, estilo profesional. | **10 pts** | ✅ Texto sin faltas ortográficas.<br>✅ Redacción clara y formal.<br>✅ Explicaciones completas y coherentes. | ❌ Errores ortográficos reiterados (-3).<br>❌ Redacción confusa o poco profesional (-4).<br>❌ Ausencia de interpretación o conclusiones (-3). |\n",
        "\n",
        "---\n",
        "\n",
        "## Escala interna del criterio de Modelado\n",
        "\n",
        "| Cantidad de modelos correctamente desarrollados | Puntaje máximo posible en criterio \"Fase 4: Modelado\" (20 pts) |\n",
        "|------------------------------------------------|---------------------------------------------------------------|\n",
        "| 3 modelos completos y funcionales | 20 pts |\n",
        "| 2 modelos completos | 15 pts |\n",
        "| 1 modelo completo | 10 pts |\n",
        "| Ningún modelo o modelos incorrectos | 0 pts |\n",
        "---\n",
        "\n",
        "### Penalizaciones generales adicionales\n",
        "\n",
        "Estas penalizaciones se aplican **además de los descuentos específicos por criterio**, si afectan la calidad integral de la entrega:\n",
        "\n",
        "| Falta | Penalización adicional |\n",
        "|-------|------------------------|\n",
        "| No uso del pipeline en ningún modelo | **-25% de la nota final** |\n",
        "| Código no ejecutable o con errores graves de sintaxis | **-15%** de la nota final |\n",
        "| Resultados sin interpretación o fuera del contexto del negocio | **-10%** de la nota final |\n",
        "| Notebook con imports distribuidos o duplicados | **-5%** de la nota final |\n",
        "| Ortografía y redacción deficiente en todo el documento | **-10%** de la nota final |\n",
        "| **Entrega incompleta (no incluye los 3 modelos solicitados)** | **-20% de la nota final** |\n",
        "\n",
        "\n",
        "---\n",
        "\n",
        "### Recomendaciones\n",
        "\n",
        "- Mantener **todos los imports al inicio del notebook**.  \n",
        "- Integrar el flujo completo (**preprocesamiento + modelo + evaluación**) dentro de un **pipeline por modelo**.  \n",
        "- Estructurar el notebook con títulos por fase:  \n",
        "  `## Fase 2: Entendimiento de los datos`,\n",
        "\n",
        "  `## Fase 3: Preparación`,\n",
        "\n",
        "  `## Fase 4: Modelado`,\n",
        "\n",
        "  `## Fase 5: Evaluación`.  \n",
        "- Interpretar siempre los resultados **en el contexto del juego y del negocio** (no sólo desde lo estadístico).  \n"
      ],
      "metadata": {
        "id": "xdiPRIvSLrYD"
      }
    },
    {
      "cell_type": "code",
      "execution_count": 1,
      "metadata": {
        "id": "nyP2GSdNLmhF",
        "colab": {
          "base_uri": "https://localhost:8080/"
        },
        "outputId": "84e1d18b-f87d-4864-c99f-91ef1e0a70fd"
      },
      "outputs": [
        {
          "output_type": "stream",
          "name": "stdout",
          "text": [
            "--2025-10-28 23:06:40--  https://www.dropbox.com/s/sst1u94436vqca6/demo_round_traces.csv\n",
            "Resolving www.dropbox.com (www.dropbox.com)... 162.125.80.18, 2620:100:6017:18::a27d:212\n",
            "Connecting to www.dropbox.com (www.dropbox.com)|162.125.80.18|:443... connected.\n",
            "HTTP request sent, awaiting response... 302 Found\n",
            "Location: https://www.dropbox.com/scl/fi/ujmigz0ky1r9ps75u8h1d/demo_round_traces.csv?rlkey=24f4k6ipomzkq1lj8kz2gayds [following]\n",
            "--2025-10-28 23:06:41--  https://www.dropbox.com/scl/fi/ujmigz0ky1r9ps75u8h1d/demo_round_traces.csv?rlkey=24f4k6ipomzkq1lj8kz2gayds\n",
            "Reusing existing connection to www.dropbox.com:443.\n",
            "HTTP request sent, awaiting response... 302 Found\n",
            "Location: https://ucb87827cd16a895b0933631957c.dl.dropboxusercontent.com/cd/0/inline/C0Ev4M9V5Ne2DBIYX8q50QFHUsDmq-nAV5DGCDz-v9fK_W_6BuWpnQszIpzPV1gHE8ohUCmi0xeI3oWmidyYagW504yBOTXklMB312ak2KNRHUHznoopqm4yNjoDec2rTmPCJcL1euSeUU2KB6_tQarB/file# [following]\n",
            "--2025-10-28 23:06:42--  https://ucb87827cd16a895b0933631957c.dl.dropboxusercontent.com/cd/0/inline/C0Ev4M9V5Ne2DBIYX8q50QFHUsDmq-nAV5DGCDz-v9fK_W_6BuWpnQszIpzPV1gHE8ohUCmi0xeI3oWmidyYagW504yBOTXklMB312ak2KNRHUHznoopqm4yNjoDec2rTmPCJcL1euSeUU2KB6_tQarB/file\n",
            "Resolving ucb87827cd16a895b0933631957c.dl.dropboxusercontent.com (ucb87827cd16a895b0933631957c.dl.dropboxusercontent.com)... 162.125.3.15, 2620:100:601d:15::a27d:50f\n",
            "Connecting to ucb87827cd16a895b0933631957c.dl.dropboxusercontent.com (ucb87827cd16a895b0933631957c.dl.dropboxusercontent.com)|162.125.3.15|:443... connected.\n",
            "HTTP request sent, awaiting response... 200 OK\n",
            "Length: 21482809 (20M) [text/plain]\n",
            "Saving to: ‘demo_round_traces.csv’\n",
            "\n",
            "demo_round_traces.c 100%[===================>]  20.49M  70.3MB/s    in 0.3s    \n",
            "\n",
            "2025-10-28 23:06:43 (70.3 MB/s) - ‘demo_round_traces.csv’ saved [21482809/21482809]\n",
            "\n"
          ]
        }
      ],
      "source": [
        "!wget https://www.dropbox.com/s/sst1u94436vqca6/demo_round_traces.csv"
      ]
    },
    {
      "cell_type": "code",
      "source": [
        "import pandas as pd\n",
        "import numpy as np\n",
        "\n",
        "import matplotlib.pyplot as plt\n",
        "import seaborn as sns\n",
        "\n",
        "import scipy.stats as stats\n",
        "\n",
        "from sklearn.compose import ColumnTransformer\n",
        "from sklearn.pipeline import Pipeline\n",
        "from sklearn.preprocessing import StandardScaler, OneHotEncoder\n",
        "from sklearn.impute import SimpleImputer\n",
        "from sklearn.model_selection import train_test_split\n",
        "\n",
        "from sklearn.linear_model import LinearRegression\n",
        "from sklearn.metrics import mean_absolute_error, r2_score, mean_squared_log_error"
      ],
      "metadata": {
        "id": "PA12n4qhmkdC"
      },
      "execution_count": 2,
      "outputs": []
    },
    {
      "cell_type": "code",
      "source": [
        "df = pd.read_csv('demo_round_traces.csv', sep=\";\", low_memory = False)"
      ],
      "metadata": {
        "id": "Vjn5DTlGZejp"
      },
      "execution_count": 3,
      "outputs": []
    },
    {
      "cell_type": "markdown",
      "source": [
        "## Fase 2: Entendimiento de los datos"
      ],
      "metadata": {
        "id": "oABJQ3rqmaQ_"
      }
    },
    {
      "cell_type": "markdown",
      "source": [
        "## Definicion de variables para los modelos"
      ],
      "metadata": {
        "id": "fd5pLZU_m7JL"
      }
    },
    {
      "cell_type": "code",
      "source": [
        "variables_independientes_modelo1_x=['AvgCentroidDistance', 'TravelledDistance', 'AvgRoundVelocity', 'RoundStartingEquipmentValue']\n",
        "variables_dependiente_modelo1_y=['TimeAlive', 'ScaledTimeAlive']\n",
        "\n",
        "variables_independientes_modelo2_x=['RoundKills', 'RoundAssists', 'RoundHeadshots']\n",
        "variables_dependiente_modelo2_y=['RoundStartingEquipmentValue']\n",
        "\n",
        "variables_independientes_modelo3_x=['TimeAlive', 'AvgRoundVelocity']\n",
        "variables_dependiente_modelo3_y=['TravelledDistance']\n",
        "\n",
        "variables_independientes_x = [variables_independientes_modelo1_x, variables_independientes_modelo2_x, variables_independientes_modelo3_x]\n",
        "variables_dependientes_y = [variables_dependiente_modelo1_y, variables_dependiente_modelo2_y, variables_dependiente_modelo3_y]\n",
        "\n",
        "variables_analizar = variables_independientes_x + variables_dependientes_y"
      ],
      "metadata": {
        "id": "nNGbOu0hm6Mb"
      },
      "execution_count": 4,
      "outputs": []
    },
    {
      "cell_type": "markdown",
      "source": [
        "## Análisis de tipos de datos"
      ],
      "metadata": {
        "id": "4e9ePt1fmjav"
      }
    },
    {
      "cell_type": "code",
      "source": [
        "df.info(verbose=True, show_counts=True, memory_usage=False)"
      ],
      "metadata": {
        "colab": {
          "base_uri": "https://localhost:8080/"
        },
        "id": "6jL-1ofimf1e",
        "outputId": "8b3366e2-56ac-4f9a-8566-658b1a54d874"
      },
      "execution_count": 5,
      "outputs": [
        {
          "output_type": "stream",
          "name": "stdout",
          "text": [
            "<class 'pandas.core.frame.DataFrame'>\n",
            "RangeIndex: 79157 entries, 0 to 79156\n",
            "Data columns (total 37 columns):\n",
            " #   Column                       Non-Null Count  Dtype  \n",
            "---  ------                       --------------  -----  \n",
            " 0   Unnamed: 0                   79157 non-null  int64  \n",
            " 1   Map                          79157 non-null  object \n",
            " 2   Team                         79157 non-null  object \n",
            " 3   InternalTeamId               79157 non-null  int64  \n",
            " 4   MatchId                      79157 non-null  int64  \n",
            " 5   RoundId                      79157 non-null  int64  \n",
            " 6   SteamId                      79157 non-null  int64  \n",
            " 7   RoundWinner                  79157 non-null  bool   \n",
            " 8   MatchWinner                  79157 non-null  bool   \n",
            " 9   Survived                     79157 non-null  bool   \n",
            " 10  AbnormalMatch                79157 non-null  bool   \n",
            " 11  TimeAlive                    79157 non-null  float64\n",
            " 12  ScaledTimeAlive              79157 non-null  float64\n",
            " 13  AvgCentroidDistance          79157 non-null  float64\n",
            " 14  TravelledDistance            79157 non-null  float64\n",
            " 15  AvgRoundVelocity             79157 non-null  float64\n",
            " 16  AvgKillDistance              79157 non-null  float64\n",
            " 17  AvgSiteDistance              79157 non-null  float64\n",
            " 18  RLethalGrenadesThrown        79157 non-null  int64  \n",
            " 19  RNonLethalGrenadesThrown     79157 non-null  int64  \n",
            " 20  PrimaryAssaultRifle          79157 non-null  float64\n",
            " 21  PrimarySniperRifle           79157 non-null  float64\n",
            " 22  PrimaryHeavy                 79157 non-null  float64\n",
            " 23  PrimarySMG                   79157 non-null  float64\n",
            " 24  PrimaryPistol                79157 non-null  int64  \n",
            " 25  FirstKillTime                79157 non-null  float64\n",
            " 26  RoundKills                   79157 non-null  int64  \n",
            " 27  RoundAssists                 79157 non-null  int64  \n",
            " 28  RoundHeadshots               79157 non-null  int64  \n",
            " 29  RoundFlankKills              79157 non-null  int64  \n",
            " 30  RoundStartingEquipmentValue  79157 non-null  int64  \n",
            " 31  TeamStartingEquipmentValue   79157 non-null  int64  \n",
            " 32  MatchKills                   79157 non-null  int64  \n",
            " 33  MatchFlankKills              79157 non-null  int64  \n",
            " 34  MatchAssists                 79157 non-null  int64  \n",
            " 35  MatchHeadshots               79157 non-null  int64  \n",
            " 36  AvgMatchKillDist             79157 non-null  float64\n",
            "dtypes: bool(4), float64(13), int64(18), object(2)"
          ]
        }
      ]
    },
    {
      "cell_type": "markdown",
      "source": [
        "A primera vista se ve que todas las filas tienen datos, es decir, que no hay nulos. Además, se puede ver el tipo de dato de las columnas que son int, float, bool y object.\n",
        "\n",
        "Hay 79.157 filas de datos y 37 columnas."
      ],
      "metadata": {
        "id": "fYFhstVVmdCh"
      }
    },
    {
      "cell_type": "markdown",
      "source": [
        "## Existencia de nulos\n"
      ],
      "metadata": {
        "id": "4R9IROgnmmXg"
      }
    },
    {
      "cell_type": "code",
      "source": [
        "for variable in variables_analizar:\n",
        "  print(f\"Variable: {variable}\")\n",
        "  print(df[variable].isna().sum())"
      ],
      "metadata": {
        "colab": {
          "base_uri": "https://localhost:8080/"
        },
        "id": "_-p9th-Mmvaf",
        "outputId": "c054756c-47f6-4284-b278-cc04c6cba3d5"
      },
      "execution_count": 6,
      "outputs": [
        {
          "output_type": "stream",
          "name": "stdout",
          "text": [
            "Variable: ['AvgCentroidDistance', 'TravelledDistance', 'AvgRoundVelocity', 'RoundStartingEquipmentValue']\n",
            "AvgCentroidDistance            0\n",
            "TravelledDistance              0\n",
            "AvgRoundVelocity               0\n",
            "RoundStartingEquipmentValue    0\n",
            "dtype: int64\n",
            "Variable: ['RoundKills', 'RoundAssists', 'RoundHeadshots']\n",
            "RoundKills        0\n",
            "RoundAssists      0\n",
            "RoundHeadshots    0\n",
            "dtype: int64\n",
            "Variable: ['TimeAlive', 'AvgRoundVelocity']\n",
            "TimeAlive           0\n",
            "AvgRoundVelocity    0\n",
            "dtype: int64\n",
            "Variable: ['TimeAlive', 'ScaledTimeAlive']\n",
            "TimeAlive          0\n",
            "ScaledTimeAlive    0\n",
            "dtype: int64\n",
            "Variable: ['RoundStartingEquipmentValue']\n",
            "RoundStartingEquipmentValue    0\n",
            "dtype: int64\n",
            "Variable: ['TravelledDistance']\n",
            "TravelledDistance    0\n",
            "dtype: int64\n"
          ]
        }
      ]
    },
    {
      "cell_type": "markdown",
      "source": [
        "La ausencia de valores nulos en las variables que usaremos en los modelos significan buenas noticias, ya que garantiza la integridad y completitud de los datos, evitando la necesidad de imputaciones o eliminaciones que podrían sesgar los resultados. Esto permite realizar análisis estadísticos y un posterior modelado con mayor precisión y confianza, asegurando conclusiones más precisas."
      ],
      "metadata": {
        "id": "Rut8d1WFmt4X"
      }
    },
    {
      "cell_type": "markdown",
      "source": [
        "## Existencia de duplicados (REVISAR)"
      ],
      "metadata": {
        "id": "tzmVzcmJmwX3"
      }
    },
    {
      "cell_type": "code",
      "source": [
        "for variable in variables_analizar:\n",
        "  print(f\"Variable: {variable}\")\n",
        "  print(df[variable].duplicated().sum())"
      ],
      "metadata": {
        "colab": {
          "base_uri": "https://localhost:8080/"
        },
        "id": "7LTmqTO6nRfx",
        "outputId": "f44749e9-9a1d-4f3d-eef4-c1d2bb1c5b22"
      },
      "execution_count": 7,
      "outputs": [
        {
          "output_type": "stream",
          "name": "stdout",
          "text": [
            "Variable: ['AvgCentroidDistance', 'TravelledDistance', 'AvgRoundVelocity', 'RoundStartingEquipmentValue']\n",
            "931\n",
            "Variable: ['RoundKills', 'RoundAssists', 'RoundHeadshots']\n",
            "79105\n",
            "Variable: ['TimeAlive', 'AvgRoundVelocity']\n",
            "1081\n",
            "Variable: ['TimeAlive', 'ScaledTimeAlive']\n",
            "24861\n",
            "Variable: ['RoundStartingEquipmentValue']\n",
            "78991\n",
            "Variable: ['TravelledDistance']\n",
            "1156\n"
          ]
        }
      ]
    },
    {
      "cell_type": "markdown",
      "source": [
        "## Existencia de atipicos"
      ],
      "metadata": {
        "id": "WGZPL6ajpMn3"
      }
    },
    {
      "cell_type": "code",
      "source": [
        "def buscar_atipicos(data : pd.DataFrame, columna : str) -> pd.DataFrame:\n",
        "  # Calcular los límites\n",
        "  Q1 = data[columna].quantile(0.25)\n",
        "  Q3 = data[columna].quantile(0.75)\n",
        "  # Calcula rango intercuartilico\n",
        "  IQR = Q3 - Q1\n",
        "  limite_inferior = Q1 - 1.5 * IQR\n",
        "  limite_superior = Q3 + 1.5 * IQR\n",
        "  # Filtrar outliers\n",
        "  atipicos = data[(data[columna] < limite_inferior) | (data[columna] > limite_superior)]\n",
        "  return atipicos\n",
        "\n",
        "def obtener_cantidad_atipicos(data : pd.DataFrame, columnas : np.array) -> dict:\n",
        "  cantidad_atipicos = {}\n",
        "  for columna in columnas:\n",
        "    cantidad_atipicos[columna] = buscar_atipicos(data, columna).shape[0]\n",
        "  return cantidad_atipicos\n",
        "\n",
        "atipicos_por_columna_1 = obtener_cantidad_atipicos(df, variables_independientes_modelo1_x)\n",
        "print(\"Modelo 1\")\n",
        "print(atipicos_por_columna_1)\n",
        "\n",
        "print(\"-----------------------\")\n",
        "atipicos_por_columna_2 = obtener_cantidad_atipicos(df, variables_independientes_modelo2_x)\n",
        "print(\"Modelo 2\")\n",
        "print(atipicos_por_columna_2)\n",
        "\n",
        "print(\"-----------------------\")\n",
        "atipicos_por_columna_3 = obtener_cantidad_atipicos(df, variables_independientes_modelo3_x)\n",
        "print(\"Modelo 3\")\n",
        "print(atipicos_por_columna_3)"
      ],
      "metadata": {
        "id": "e-5TTQ7ToWEB",
        "colab": {
          "base_uri": "https://localhost:8080/"
        },
        "outputId": "3b861122-c055-44c9-aaf9-c74989596e6a"
      },
      "execution_count": 8,
      "outputs": [
        {
          "output_type": "stream",
          "name": "stdout",
          "text": [
            "Modelo 1\n",
            "{'AvgCentroidDistance': 1707, 'TravelledDistance': 1262, 'AvgRoundVelocity': 142, 'RoundStartingEquipmentValue': 0}\n",
            "-----------------------\n",
            "Modelo 2\n",
            "{'RoundKills': 3505, 'RoundAssists': 10692, 'RoundHeadshots': 19582}\n",
            "-----------------------\n",
            "Modelo 3\n",
            "{'TimeAlive': 594, 'AvgRoundVelocity': 142}\n"
          ]
        }
      ]
    },
    {
      "cell_type": "markdown",
      "source": [
        "## Analisis de Correlacion"
      ],
      "metadata": {
        "id": "71YP5lLsDupv"
      }
    },
    {
      "cell_type": "code",
      "source": [
        "def analisis_correlacion (nombre, features_x, features_y):\n",
        "  nombre = nombre\n",
        "  features_x = features_x\n",
        "  features_y = features_y\n",
        "\n",
        "  vars_m1 = features_x + features_y\n",
        "  corr_matrix = df[vars_m1].corr()\n",
        "\n",
        "  #grafico\n",
        "  plt.figure(figsize=(8, 6))\n",
        "  sns.heatmap(corr_matrix, annot=True, cmap='coolwarm', fmt=\".2f\")\n",
        "  plt.title(f'Mapa de Correlación - {nombre} (Supervivencia)')\n",
        "  plt.show()\n",
        "\n",
        "print(\"modelo 1\")\n",
        "analisis_correlacion('Modelo 1', variables_independientes_modelo1_x, variables_dependiente_modelo1_y)\n",
        "\n",
        "print(\"modelo 2\")\n",
        "analisis_correlacion('Modelo 2', variables_independientes_modelo2_x, variables_dependiente_modelo2_y)\n",
        "\n",
        "print(\"modelo 3\")\n",
        "analisis_correlacion('Modelo 3', variables_independientes_modelo3_x, variables_dependiente_modelo3_y)"
      ],
      "metadata": {
        "colab": {
          "base_uri": "https://localhost:8080/",
          "height": 1000
        },
        "id": "vyhOyhcwD0-A",
        "outputId": "7eb89236-d947-4fc0-a39c-84a4104a78a9"
      },
      "execution_count": 16,
      "outputs": [
        {
          "output_type": "stream",
          "name": "stdout",
          "text": [
            "modelo 1\n"
          ]
        },
        {
          "output_type": "display_data",
          "data": {
            "text/plain": [
              "<Figure size 800x600 with 2 Axes>"
            ],
            "image/png": "[encoded data removed]"
          },
          "metadata": {}
        },
        {
          "output_type": "stream",
          "name": "stdout",
          "text": [
            "modelo 2\n"
          ]
        },
        {
          "output_type": "display_data",
          "data": {
            "text/plain": [
              "<Figure size 800x600 with 2 Axes>"
            ],
            "image/png": "[encoded data removed]"
          },
          "metadata": {}
        },
        {
          "output_type": "stream",
          "name": "stdout",
          "text": [
            "modelo 3\n"
          ]
        },
        {
          "output_type": "display_data",
          "data": {
            "text/plain": [
              "<Figure size 800x600 with 2 Axes>"
            ],
            "image/png": "[encoded data removed]"
          },
          "metadata": {}
        }
      ]
    },
    {
      "cell_type": "markdown",
      "source": [
        "(interpretacion) blablablablablabla"
      ],
      "metadata": {
        "id": "mHO5a9rmFij5"
      }
    },
    {
      "cell_type": "markdown",
      "source": [
        "## Fase 3: Preparación"
      ],
      "metadata": {
        "id": "eckoPs2MmaIC"
      }
    },
    {
      "cell_type": "code",
      "source": [
        "variable_target_1 = 'TimeAlive'\n",
        "variable_target_2 = 'RoundStartingEquipmentValue'\n",
        "variable_target_3 = 'TravelledDistance'"
      ],
      "metadata": {
        "id": "icpRAhdQHOU8"
      },
      "execution_count": 17,
      "outputs": []
    },
    {
      "cell_type": "markdown",
      "source": [
        "## definicion del transformador numerico base"
      ],
      "metadata": {
        "id": "pzo9vvGpHdPF"
      }
    },
    {
      "cell_type": "code",
      "source": [
        "numerical_transformer = Pipeline(steps=[\n",
        "    ('imputer', SimpleImputer(strategy='median')),\n",
        "    ('scaler', StandardScaler())\n",
        "])\n",
        "\n",
        "display(numerical_transformer)"
      ],
      "metadata": {
        "colab": {
          "base_uri": "https://localhost:8080/",
          "height": 155
        },
        "id": "GUrltxf1Hbms",
        "outputId": "038a6ba2-ee5a-418a-cf2b-b295e311e360"
      },
      "execution_count": 19,
      "outputs": [
        {
          "output_type": "display_data",
          "data": {
            "text/plain": [
              "Pipeline(steps=[('imputer', SimpleImputer(strategy='median')),\n",
              "                ('scaler', StandardScaler())])"
            ],
            "text/html": [
              "<style>#sk-container-id-4 {\n",
              "  /* Definition of color scheme common for light and dark mode */\n",
              "  --sklearn-color-text: #000;\n",
              "  --sklearn-color-text-muted: #666;\n",
              "  --sklearn-color-line: gray;\n",
              "  /* Definition of color scheme for unfitted estimators */\n",
              "  --sklearn-color-unfitted-level-0: #fff5e6;\n",
              "  --sklearn-color-unfitted-level-1: #f6e4d2;\n",
              "  --sklearn-color-unfitted-level-2: #ffe0b3;\n",
              "  --sklearn-color-unfitted-level-3: chocolate;\n",
              "  /* Definition of color scheme for fitted estimators */\n",
              "  --sklearn-color-fitted-level-0: #f0f8ff;\n",
              "  --sklearn-color-fitted-level-1: #d4ebff;\n",
              "  --sklearn-color-fitted-level-2: #b3dbfd;\n",
              "  --sklearn-color-fitted-level-3: cornflowerblue;\n",
              "\n",
              "  /* Specific color for light theme */\n",
              "  --sklearn-color-text-on-default-background: var(--sg-text-color, var(--theme-code-foreground, var(--jp-content-font-color1, black)));\n",
              "  --sklearn-color-background: var(--sg-background-color, var(--theme-background, var(--jp-layout-color0, white)));\n",
              "  --sklearn-color-border-box: var(--sg-text-color, var(--theme-code-foreground, var(--jp-content-font-color1, black)));\n",
              "  --sklearn-color-icon: #696969;\n",
              "\n",
              "  @media (prefers-color-scheme: dark) {\n",
              "    /* Redefinition of color scheme for dark theme */\n",
              "    --sklearn-color-text-on-default-background: var(--sg-text-color, var(--theme-code-foreground, var(--jp-content-font-color1, white)));\n",
              "    --sklearn-color-background: var(--sg-background-color, var(--theme-background, var(--jp-layout-color0, #111)));\n",
              "    --sklearn-color-border-box: var(--sg-text-color, var(--theme-code-foreground, var(--jp-content-font-color1, white)));\n",
              "    --sklearn-color-icon: #878787;\n",
              "  }\n",
              "}\n",
              "\n",
              "#sk-container-id-4 {\n",
              "  color: var(--sklearn-color-text);\n",
              "}\n",
              "\n",
              "#sk-container-id-4 pre {\n",
              "  padding: 0;\n",
              "}\n",
              "\n",
              "#sk-container-id-4 input.sk-hidden--visually {\n",
              "  border: 0;\n",
              "  clip: rect(1px 1px 1px 1px);\n",
              "  clip: rect(1px, 1px, 1px, 1px);\n",
              "  height: 1px;\n",
              "  margin: -1px;\n",
              "  overflow: hidden;\n",
              "  padding: 0;\n",
              "  position: absolute;\n",
              "  width: 1px;\n",
              "}\n",
              "\n",
              "#sk-container-id-4 div.sk-dashed-wrapped {\n",
              "  border: 1px dashed var(--sklearn-color-line);\n",
              "  margin: 0 0.4em 0.5em 0.4em;\n",
              "  box-sizing: border-box;\n",
              "  padding-bottom: 0.4em;\n",
              "  background-color: var(--sklearn-color-background);\n",
              "}\n",
              "\n",
              "#sk-container-id-4 div.sk-container {\n",
              "  /* jupyter's `normalize.less` sets `[hidden] { display: none; }`\n",
              "     but bootstrap.min.css set `[hidden] { display: none !important; }`\n",
              "     so we also need the `!important` here to be able to override the\n",
              "     default hidden behavior on the sphinx rendered scikit-learn.org.\n",
              "     See: https://github.com/scikit-learn/scikit-learn/issues/21755 */\n",
              "  display: inline-block !important;\n",
              "  position: relative;\n",
              "}\n",
              "\n",
              "#sk-container-id-4 div.sk-text-repr-fallback {\n",
              "  display: none;\n",
              "}\n",
              "\n",
              "div.sk-parallel-item,\n",
              "div.sk-serial,\n",
              "div.sk-item {\n",
              "  /* draw centered vertical line to link estimators */\n",
              "  background-image: linear-gradient(var(--sklearn-color-text-on-default-background), var(--sklearn-color-text-on-default-background));\n",
              "  background-size: 2px 100%;\n",
              "  background-repeat: no-repeat;\n",
              "  background-position: center center;\n",
              "}\n",
              "\n",
              "/* Parallel-specific style estimator block */\n",
              "\n",
              "#sk-container-id-4 div.sk-parallel-item::after {\n",
              "  content: \"\";\n",
              "  width: 100%;\n",
              "  border-bottom: 2px solid var(--sklearn-color-text-on-default-background);\n",
              "  flex-grow: 1;\n",
              "}\n",
              "\n",
              "#sk-container-id-4 div.sk-parallel {\n",
              "  display: flex;\n",
              "  align-items: stretch;\n",
              "  justify-content: center;\n",
              "  background-color: var(--sklearn-color-background);\n",
              "  position: relative;\n",
              "}\n",
              "\n",
              "#sk-container-id-4 div.sk-parallel-item {\n",
              "  display: flex;\n",
              "  flex-direction: column;\n",
              "}\n",
              "\n",
              "#sk-container-id-4 div.sk-parallel-item:first-child::after {\n",
              "  align-self: flex-end;\n",
              "  width: 50%;\n",
              "}\n",
              "\n",
              "#sk-container-id-4 div.sk-parallel-item:last-child::after {\n",
              "  align-self: flex-start;\n",
              "  width: 50%;\n",
              "}\n",
              "\n",
              "#sk-container-id-4 div.sk-parallel-item:only-child::after {\n",
              "  width: 0;\n",
              "}\n",
              "\n",
              "/* Serial-specific style estimator block */\n",
              "\n",
              "#sk-container-id-4 div.sk-serial {\n",
              "  display: flex;\n",
              "  flex-direction: column;\n",
              "  align-items: center;\n",
              "  background-color: var(--sklearn-color-background);\n",
              "  padding-right: 1em;\n",
              "  padding-left: 1em;\n",
              "}\n",
              "\n",
              "\n",
              "/* Toggleable style: style used for estimator/Pipeline/ColumnTransformer box that is\n",
              "clickable and can be expanded/collapsed.\n",
              "- Pipeline and ColumnTransformer use this feature and define the default style\n",
              "- Estimators will overwrite some part of the style using the `sk-estimator` class\n",
              "*/\n",
              "\n",
              "/* Pipeline and ColumnTransformer style (default) */\n",
              "\n",
              "#sk-container-id-4 div.sk-toggleable {\n",
              "  /* Default theme specific background. It is overwritten whether we have a\n",
              "  specific estimator or a Pipeline/ColumnTransformer */\n",
              "  background-color: var(--sklearn-color-background);\n",
              "}\n",
              "\n",
              "/* Toggleable label */\n",
              "#sk-container-id-4 label.sk-toggleable__label {\n",
              "  cursor: pointer;\n",
              "  display: flex;\n",
              "  width: 100%;\n",
              "  margin-bottom: 0;\n",
              "  padding: 0.5em;\n",
              "  box-sizing: border-box;\n",
              "  text-align: center;\n",
              "  align-items: start;\n",
              "  justify-content: space-between;\n",
              "  gap: 0.5em;\n",
              "}\n",
              "\n",
              "#sk-container-id-4 label.sk-toggleable__label .caption {\n",
              "  font-size: 0.6rem;\n",
              "  font-weight: lighter;\n",
              "  color: var(--sklearn-color-text-muted);\n",
              "}\n",
              "\n",
              "#sk-container-id-4 label.sk-toggleable__label-arrow:before {\n",
              "  /* Arrow on the left of the label */\n",
              "  content: \"▸\";\n",
              "  float: left;\n",
              "  margin-right: 0.25em;\n",
              "  color: var(--sklearn-color-icon);\n",
              "}\n",
              "\n",
              "#sk-container-id-4 label.sk-toggleable__label-arrow:hover:before {\n",
              "  color: var(--sklearn-color-text);\n",
              "}\n",
              "\n",
              "/* Toggleable content - dropdown */\n",
              "\n",
              "#sk-container-id-4 div.sk-toggleable__content {\n",
              "  max-height: 0;\n",
              "  max-width: 0;\n",
              "  overflow: hidden;\n",
              "  text-align: left;\n",
              "  /* unfitted */\n",
              "  background-color: var(--sklearn-color-unfitted-level-0);\n",
              "}\n",
              "\n",
              "#sk-container-id-4 div.sk-toggleable__content.fitted {\n",
              "  /* fitted */\n",
              "  background-color: var(--sklearn-color-fitted-level-0);\n",
              "}\n",
              "\n",
              "#sk-container-id-4 div.sk-toggleable__content pre {\n",
              "  margin: 0.2em;\n",
              "  border-radius: 0.25em;\n",
              "  color: var(--sklearn-color-text);\n",
              "  /* unfitted */\n",
              "  background-color: var(--sklearn-color-unfitted-level-0);\n",
              "}\n",
              "\n",
              "#sk-container-id-4 div.sk-toggleable__content.fitted pre {\n",
              "  /* unfitted */\n",
              "  background-color: var(--sklearn-color-fitted-level-0);\n",
              "}\n",
              "\n",
              "#sk-container-id-4 input.sk-toggleable__control:checked~div.sk-toggleable__content {\n",
              "  /* Expand drop-down */\n",
              "  max-height: 200px;\n",
              "  max-width: 100%;\n",
              "  overflow: auto;\n",
              "}\n",
              "\n",
              "#sk-container-id-4 input.sk-toggleable__control:checked~label.sk-toggleable__label-arrow:before {\n",
              "  content: \"▾\";\n",
              "}\n",
              "\n",
              "/* Pipeline/ColumnTransformer-specific style */\n",
              "\n",
              "#sk-container-id-4 div.sk-label input.sk-toggleable__control:checked~label.sk-toggleable__label {\n",
              "  color: var(--sklearn-color-text);\n",
              "  background-color: var(--sklearn-color-unfitted-level-2);\n",
              "}\n",
              "\n",
              "#sk-container-id-4 div.sk-label.fitted input.sk-toggleable__control:checked~label.sk-toggleable__label {\n",
              "  background-color: var(--sklearn-color-fitted-level-2);\n",
              "}\n",
              "\n",
              "/* Estimator-specific style */\n",
              "\n",
              "/* Colorize estimator box */\n",
              "#sk-container-id-4 div.sk-estimator input.sk-toggleable__control:checked~label.sk-toggleable__label {\n",
              "  /* unfitted */\n",
              "  background-color: var(--sklearn-color-unfitted-level-2);\n",
              "}\n",
              "\n",
              "#sk-container-id-4 div.sk-estimator.fitted input.sk-toggleable__control:checked~label.sk-toggleable__label {\n",
              "  /* fitted */\n",
              "  background-color: var(--sklearn-color-fitted-level-2);\n",
              "}\n",
              "\n",
              "#sk-container-id-4 div.sk-label label.sk-toggleable__label,\n",
              "#sk-container-id-4 div.sk-label label {\n",
              "  /* The background is the default theme color */\n",
              "  color: var(--sklearn-color-text-on-default-background);\n",
              "}\n",
              "\n",
              "/* On hover, darken the color of the background */\n",
              "#sk-container-id-4 div.sk-label:hover label.sk-toggleable__label {\n",
              "  color: var(--sklearn-color-text);\n",
              "  background-color: var(--sklearn-color-unfitted-level-2);\n",
              "}\n",
              "\n",
              "/* Label box, darken color on hover, fitted */\n",
              "#sk-container-id-4 div.sk-label.fitted:hover label.sk-toggleable__label.fitted {\n",
              "  color: var(--sklearn-color-text);\n",
              "  background-color: var(--sklearn-color-fitted-level-2);\n",
              "}\n",
              "\n",
              "/* Estimator label */\n",
              "\n",
              "#sk-container-id-4 div.sk-label label {\n",
              "  font-family: monospace;\n",
              "  font-weight: bold;\n",
              "  display: inline-block;\n",
              "  line-height: 1.2em;\n",
              "}\n",
              "\n",
              "#sk-container-id-4 div.sk-label-container {\n",
              "  text-align: center;\n",
              "}\n",
              "\n",
              "/* Estimator-specific */\n",
              "#sk-container-id-4 div.sk-estimator {\n",
              "  font-family: monospace;\n",
              "  border: 1px dotted var(--sklearn-color-border-box);\n",
              "  border-radius: 0.25em;\n",
              "  box-sizing: border-box;\n",
              "  margin-bottom: 0.5em;\n",
              "  /* unfitted */\n",
              "  background-color: var(--sklearn-color-unfitted-level-0);\n",
              "}\n",
              "\n",
              "#sk-container-id-4 div.sk-estimator.fitted {\n",
              "  /* fitted */\n",
              "  background-color: var(--sklearn-color-fitted-level-0);\n",
              "}\n",
              "\n",
              "/* on hover */\n",
              "#sk-container-id-4 div.sk-estimator:hover {\n",
              "  /* unfitted */\n",
              "  background-color: var(--sklearn-color-unfitted-level-2);\n",
              "}\n",
              "\n",
              "#sk-container-id-4 div.sk-estimator.fitted:hover {\n",
              "  /* fitted */\n",
              "  background-color: var(--sklearn-color-fitted-level-2);\n",
              "}\n",
              "\n",
              "/* Specification for estimator info (e.g. \"i\" and \"?\") */\n",
              "\n",
              "/* Common style for \"i\" and \"?\" */\n",
              "\n",
              ".sk-estimator-doc-link,\n",
              "a:link.sk-estimator-doc-link,\n",
              "a:visited.sk-estimator-doc-link {\n",
              "  float: right;\n",
              "  font-size: smaller;\n",
              "  line-height: 1em;\n",
              "  font-family: monospace;\n",
              "  background-color: var(--sklearn-color-background);\n",
              "  border-radius: 1em;\n",
              "  height: 1em;\n",
              "  width: 1em;\n",
              "  text-decoration: none !important;\n",
              "  margin-left: 0.5em;\n",
              "  text-align: center;\n",
              "  /* unfitted */\n",
              "  border: var(--sklearn-color-unfitted-level-1) 1pt solid;\n",
              "  color: var(--sklearn-color-unfitted-level-1);\n",
              "}\n",
              "\n",
              ".sk-estimator-doc-link.fitted,\n",
              "a:link.sk-estimator-doc-link.fitted,\n",
              "a:visited.sk-estimator-doc-link.fitted {\n",
              "  /* fitted */\n",
              "  border: var(--sklearn-color-fitted-level-1) 1pt solid;\n",
              "  color: var(--sklearn-color-fitted-level-1);\n",
              "}\n",
              "\n",
              "/* On hover */\n",
              "div.sk-estimator:hover .sk-estimator-doc-link:hover,\n",
              ".sk-estimator-doc-link:hover,\n",
              "div.sk-label-container:hover .sk-estimator-doc-link:hover,\n",
              ".sk-estimator-doc-link:hover {\n",
              "  /* unfitted */\n",
              "  background-color: var(--sklearn-color-unfitted-level-3);\n",
              "  color: var(--sklearn-color-background);\n",
              "  text-decoration: none;\n",
              "}\n",
              "\n",
              "div.sk-estimator.fitted:hover .sk-estimator-doc-link.fitted:hover,\n",
              ".sk-estimator-doc-link.fitted:hover,\n",
              "div.sk-label-container:hover .sk-estimator-doc-link.fitted:hover,\n",
              ".sk-estimator-doc-link.fitted:hover {\n",
              "  /* fitted */\n",
              "  background-color: var(--sklearn-color-fitted-level-3);\n",
              "  color: var(--sklearn-color-background);\n",
              "  text-decoration: none;\n",
              "}\n",
              "\n",
              "/* Span, style for the box shown on hovering the info icon */\n",
              ".sk-estimator-doc-link span {\n",
              "  display: none;\n",
              "  z-index: 9999;\n",
              "  position: relative;\n",
              "  font-weight: normal;\n",
              "  right: .2ex;\n",
              "  padding: .5ex;\n",
              "  margin: .5ex;\n",
              "  width: min-content;\n",
              "  min-width: 20ex;\n",
              "  max-width: 50ex;\n",
              "  color: var(--sklearn-color-text);\n",
              "  box-shadow: 2pt 2pt 4pt #999;\n",
              "  /* unfitted */\n",
              "  background: var(--sklearn-color-unfitted-level-0);\n",
              "  border: .5pt solid var(--sklearn-color-unfitted-level-3);\n",
              "}\n",
              "\n",
              ".sk-estimator-doc-link.fitted span {\n",
              "  /* fitted */\n",
              "  background: var(--sklearn-color-fitted-level-0);\n",
              "  border: var(--sklearn-color-fitted-level-3);\n",
              "}\n",
              "\n",
              ".sk-estimator-doc-link:hover span {\n",
              "  display: block;\n",
              "}\n",
              "\n",
              "/* \"?\"-specific style due to the `<a>` HTML tag */\n",
              "\n",
              "#sk-container-id-4 a.estimator_doc_link {\n",
              "  float: right;\n",
              "  font-size: 1rem;\n",
              "  line-height: 1em;\n",
              "  font-family: monospace;\n",
              "  background-color: var(--sklearn-color-background);\n",
              "  border-radius: 1rem;\n",
              "  height: 1rem;\n",
              "  width: 1rem;\n",
              "  text-decoration: none;\n",
              "  /* unfitted */\n",
              "  color: var(--sklearn-color-unfitted-level-1);\n",
              "  border: var(--sklearn-color-unfitted-level-1) 1pt solid;\n",
              "}\n",
              "\n",
              "#sk-container-id-4 a.estimator_doc_link.fitted {\n",
              "  /* fitted */\n",
              "  border: var(--sklearn-color-fitted-level-1) 1pt solid;\n",
              "  color: var(--sklearn-color-fitted-level-1);\n",
              "}\n",
              "\n",
              "/* On hover */\n",
              "#sk-container-id-4 a.estimator_doc_link:hover {\n",
              "  /* unfitted */\n",
              "  background-color: var(--sklearn-color-unfitted-level-3);\n",
              "  color: var(--sklearn-color-background);\n",
              "  text-decoration: none;\n",
              "}\n",
              "\n",
              "#sk-container-id-4 a.estimator_doc_link.fitted:hover {\n",
              "  /* fitted */\n",
              "  background-color: var(--sklearn-color-fitted-level-3);\n",
              "}\n",
              "</style><div id=\"sk-container-id-4\" class=\"sk-top-container\"><div class=\"sk-text-repr-fallback\"><pre>Pipeline(steps=[(&#x27;imputer&#x27;, SimpleImputer(strategy=&#x27;median&#x27;)),\n",
              "                (&#x27;scaler&#x27;, StandardScaler())])</pre><b>In a Jupyter environment, please rerun this cell to show the HTML representation or trust the notebook. <br />On GitHub, the HTML representation is unable to render, please try loading this page with nbviewer.org.</b></div><div class=\"sk-container\" hidden><div class=\"sk-item sk-dashed-wrapped\"><div class=\"sk-label-container\"><div class=\"sk-label  sk-toggleable\"><input class=\"sk-toggleable__control sk-hidden--visually\" id=\"sk-estimator-id-19\" type=\"checkbox\" ><label for=\"sk-estimator-id-19\" class=\"sk-toggleable__label  sk-toggleable__label-arrow\"><div><div>Pipeline</div></div><div><a class=\"sk-estimator-doc-link \" rel=\"noreferrer\" target=\"_blank\" href=\"https://scikit-learn.org/1.6/modules/generated/sklearn.pipeline.Pipeline.html\">?<span>Documentation for Pipeline</span></a><span class=\"sk-estimator-doc-link \">i<span>Not fitted</span></span></div></label><div class=\"sk-toggleable__content \"><pre>Pipeline(steps=[(&#x27;imputer&#x27;, SimpleImputer(strategy=&#x27;median&#x27;)),\n",
              "                (&#x27;scaler&#x27;, StandardScaler())])</pre></div> </div></div><div class=\"sk-serial\"><div class=\"sk-item\"><div class=\"sk-estimator  sk-toggleable\"><input class=\"sk-toggleable__control sk-hidden--visually\" id=\"sk-estimator-id-20\" type=\"checkbox\" ><label for=\"sk-estimator-id-20\" class=\"sk-toggleable__label  sk-toggleable__label-arrow\"><div><div>SimpleImputer</div></div><div><a class=\"sk-estimator-doc-link \" rel=\"noreferrer\" target=\"_blank\" href=\"https://scikit-learn.org/1.6/modules/generated/sklearn.impute.SimpleImputer.html\">?<span>Documentation for SimpleImputer</span></a></div></label><div class=\"sk-toggleable__content \"><pre>SimpleImputer(strategy=&#x27;median&#x27;)</pre></div> </div></div><div class=\"sk-item\"><div class=\"sk-estimator  sk-toggleable\"><input class=\"sk-toggleable__control sk-hidden--visually\" id=\"sk-estimator-id-21\" type=\"checkbox\" ><label for=\"sk-estimator-id-21\" class=\"sk-toggleable__label  sk-toggleable__label-arrow\"><div><div>StandardScaler</div></div><div><a class=\"sk-estimator-doc-link \" rel=\"noreferrer\" target=\"_blank\" href=\"https://scikit-learn.org/1.6/modules/generated/sklearn.preprocessing.StandardScaler.html\">?<span>Documentation for StandardScaler</span></a></div></label><div class=\"sk-toggleable__content \"><pre>StandardScaler()</pre></div> </div></div></div></div></div></div>"
            ]
          },
          "metadata": {}
        }
      ]
    },
    {
      "cell_type": "code",
      "source": [
        "def crear_y_entrenar_pipeline(df, feature_lista, nombre_target, num_transformar):\n",
        "\n",
        "    print(f\"Iniciando proceso para target: '{nombre_target}'\")\n",
        "    #definir X e y\n",
        "    X = df[feature_lista]\n",
        "    y = df[nombre_target]\n",
        "\n",
        "    #separar en Train y Test\n",
        "    X_train, X_test, y_train, y_test = train_test_split(X, y, test_size=0.2, random_state=42)\n",
        "\n",
        "    print(f\"  > Datos separados: {X_train.shape[0]} para train, {X_test.shape[0]} para test.\")\n",
        "\n",
        "    #esto le dice al pipeline qué transformador aplicar a qué columnas\n",
        "    preprocessor = ColumnTransformer(\n",
        "        transformers=[\n",
        "            ('num', num_transformar, feature_lista)\n",
        "        ],\n",
        "        remainder='passthrough' # 'passthrough' deja las columnas no listadas (si las hubiera) tal cual\n",
        "    )\n",
        "\n",
        "\n",
        "\n",
        "    #    Encadena el preprocesador con el modelo de regresión.\n",
        "    pipeline_final = Pipeline(steps=[\n",
        "        ('preprocessor', preprocessor),\n",
        "        ('regressor', LinearRegression())\n",
        "    ])\n",
        "\n",
        "    # 5. Entrenar el Pipeline\n",
        "    pipeline_final.fit(X_train, y_train)\n",
        "\n",
        "    # 6. Devolver el pipeline entrenado y los datos de test para la evaluación\n",
        "    return pipeline_final, X_test, y_test\n",
        "\n",
        "print(\"modelo 1\")\n",
        "crear_y_entrenar_pipeline(df, variables_independientes_modelo1_x, variable_target_1, numerical_transformer)\n",
        "print(\"----------------------\")\n",
        "print(\"modelo 2\")\n",
        "crear_y_entrenar_pipeline(df, variables_independientes_modelo2_x, variable_target_2, numerical_transformer)\n",
        "print(\"----------------------\")\n",
        "print(\"modelo 3\")\n",
        "crear_y_entrenar_pipeline(df, variables_independientes_modelo3_x, variable_target_3, numerical_transformer)"
      ],
      "metadata": {
        "colab": {
          "base_uri": "https://localhost:8080/"
        },
        "id": "rwfUTdcTHkA_",
        "outputId": "d6184952-e194-4bc7-9455-e551f09a3e20"
      },
      "execution_count": 21,
      "outputs": [
        {
          "output_type": "stream",
          "name": "stdout",
          "text": [
            "modelo 1\n",
            "Iniciando proceso para target: 'TimeAlive'\n",
            "  > Datos separados: 63325 para train, 15832 para test.\n",
            "----------------------\n",
            "modelo 2\n",
            "Iniciando proceso para target: 'RoundStartingEquipmentValue'\n",
            "  > Datos separados: 63325 para train, 15832 para test.\n",
            "----------------------\n",
            "modelo 3\n",
            "Iniciando proceso para target: 'TravelledDistance'\n",
            "  > Datos separados: 63325 para train, 15832 para test.\n"
          ]
        },
        {
          "output_type": "execute_result",
          "data": {
            "text/plain": [
              "(Pipeline(steps=[('preprocessor',\n",
              "                  ColumnTransformer(remainder='passthrough',\n",
              "                                    transformers=[('num',\n",
              "                                                   Pipeline(steps=[('imputer',\n",
              "                                                                    SimpleImputer(strategy='median')),\n",
              "                                                                   ('scaler',\n",
              "                                                                    StandardScaler())]),\n",
              "                                                   ['TimeAlive',\n",
              "                                                    'AvgRoundVelocity'])])),\n",
              "                 ('regressor', LinearRegression())]),\n",
              "         TimeAlive  AvgRoundVelocity\n",
              " 11762   80.160666        159.694167\n",
              " 31836   54.505894         48.531166\n",
              " 3607    51.417865        135.367712\n",
              " 65769   43.343037        116.535293\n",
              " 2107   104.037958         68.195820\n",
              " ...           ...               ...\n",
              " 47710   34.193119         73.927815\n",
              " 44092   44.107966        112.406000\n",
              " 39572   47.254352         88.616147\n",
              " 13904   78.260783        128.635658\n",
              " 13129  102.763282         59.129568\n",
              " \n",
              " [15832 rows x 2 columns],\n",
              " 11762    204568.228289\n",
              " 31836     42270.645361\n",
              " 3607     111136.891180\n",
              " 65769     80642.422478\n",
              " 2107     113341.453311\n",
              "              ...      \n",
              " 47710     40068.875786\n",
              " 44092     79133.823820\n",
              " 39572     66816.574531\n",
              " 13904    160923.207545\n",
              " 13129     97149.879997\n",
              " Name: TravelledDistance, Length: 15832, dtype: float64)"
            ]
          },
          "metadata": {},
          "execution_count": 21
        }
      ]
    },
    {
      "cell_type": "markdown",
      "source": [
        "## Fase 4: Modelado"
      ],
      "metadata": {
        "id": "3AAme5KtmZ3S"
      }
    },
    {
      "cell_type": "code",
      "source": [
        "print(\"--- Construyendo Modelo 1: Supervivencia ---\")\n",
        "pipeline_m1, X1_test, y1_test = crear_y_entrenar_pipeline(\n",
        "    df=df,\n",
        "    feature_lista=variables_independientes_modelo1_x,\n",
        "    nombre_target=variable_target_1,\n",
        "    num_transformar=numerical_transformer\n",
        ")\n",
        "print(\"-\" * 40, \"\\n\")\n",
        "\n",
        "\n",
        "print(\"--- Construyendo Modelo 2: Eficiencia Económica ---\")\n",
        "pipeline_m2, X2_test, y2_test = crear_y_entrenar_pipeline(\n",
        "    df=df,\n",
        "    feature_lista=variables_independientes_modelo2_x,\n",
        "    nombre_target=variable_target_2,\n",
        "    num_transformar=numerical_transformer\n",
        ")\n",
        "print(\"-\" * 40, \"\\n\")\n",
        "\n",
        "\n",
        "print(\"--- Construyendo Modelo 3: Estilo de Movimiento ---\")\n",
        "pipeline_m3, X3_test, y3_test = crear_y_entrenar_pipeline(\n",
        "    df=df,\n",
        "    feature_lista=variables_independientes_modelo3_x,\n",
        "    nombre_target=variable_target_3,\n",
        "    num_transformar=numerical_transformer\n",
        ")\n",
        "print(\"-\" * 40, \"\\n\")"
      ],
      "metadata": {
        "id": "20oj7UrRlDYP",
        "colab": {
          "base_uri": "https://localhost:8080/"
        },
        "outputId": "c032416e-2f9b-458f-dd6e-ff65543d54a3"
      },
      "execution_count": 24,
      "outputs": [
        {
          "output_type": "stream",
          "name": "stdout",
          "text": [
            "--- Construyendo Modelo 1: Supervivencia ---\n",
            "Iniciando proceso para target: 'TimeAlive'\n",
            "  > Datos separados: 63325 para train, 15832 para test.\n",
            "---------------------------------------- \n",
            "\n",
            "--- Construyendo Modelo 2: Eficiencia Económica ---\n",
            "Iniciando proceso para target: 'RoundStartingEquipmentValue'\n",
            "  > Datos separados: 63325 para train, 15832 para test.\n",
            "---------------------------------------- \n",
            "\n",
            "--- Construyendo Modelo 3: Estilo de Movimiento ---\n",
            "Iniciando proceso para target: 'TravelledDistance'\n",
            "  > Datos separados: 63325 para train, 15832 para test.\n",
            "---------------------------------------- \n",
            "\n"
          ]
        }
      ]
    },
    {
      "cell_type": "markdown",
      "source": [
        "## Fase 5: Evaluación"
      ],
      "metadata": {
        "id": "JP76kX8XmZhX"
      }
    },
    {
      "cell_type": "code",
      "source": [
        "def evaluate_regression_model(model_name, pipeline, X_test, y_test):\n",
        "    \"\"\"\n",
        "    Calcula y muestra las métricas R2, MAE y MSLE para un modelo de regresión.\n",
        "    Maneja el caso de predicciones negativas para MSLE.\n",
        "    \"\"\"\n",
        "    print(f\"--- Evaluación: {model_name} ---\")\n",
        "\n",
        "    # 1. Realizar predicciones con los datos de prueba\n",
        "    y_pred = pipeline.predict(X_test)\n",
        "\n",
        "    # 2. Calcular métricas\n",
        "    r2 = r2_score(y_test, y_pred)\n",
        "    mae = mean_absolute_error(y_test, y_pred)\n",
        "\n",
        "    # --- 3. Manejo de MSLE (Importante) ---\n",
        "    # El Error Logarítmico (MSLE) no puede calcularse si hay valores negativos.\n",
        "    # La Regresión Lineal PUEDE predecir valores negativos (ej. equipamiento de -$100).\n",
        "\n",
        "    # \"Recortamos\" (clip) las predicciones negativas a 0 solo para esta métrica.\n",
        "    # Hacemos copias seguras para no alterar los datos originales\n",
        "    y_test_safe = y_test.copy()\n",
        "    y_pred_safe = y_pred.copy()\n",
        "\n",
        "    # Reemplazamos cualquier predicción < 0 con 0\n",
        "    y_pred_safe[y_pred_safe < 0] = 0\n",
        "    # (También aplicamos a y_test por si acaso, aunque no debería tener negativos)\n",
        "    y_test_safe[y_test_safe < 0] = 0\n",
        "\n",
        "    msle = mean_squared_log_error(y_test_safe, y_pred_safe)\n",
        "\n",
        "    print(f\"R² (R-squared): {r2:.4f}\")\n",
        "    print(f\"MAE (Mean Absolute Error): {mae:.4f}\")\n",
        "    print(f\"MSLE (Mean Squared Logarithmic Error): {msle:.4f}\")\n",
        "    print(\"-\" * (20 + len(model_name)), \"\\n\")"
      ],
      "metadata": {
        "id": "BsiNMR7NKvNY"
      },
      "execution_count": 25,
      "outputs": []
    },
    {
      "cell_type": "code",
      "source": [
        "# --- Celda de Código: Ejecutar Evaluaciones ---\n",
        "\n",
        "# ¡Estos pipelines y datos de test (ej. X1_test) fueron creados\n",
        "# y devueltos por tu función en la Fase 4!\n",
        "\n",
        "print(\"Iniciando evaluación de los 3 modelos...\\n\")\n",
        "\n",
        "evaluate_regression_model(\"Modelo 1: Supervivencia\", pipeline_m1, X1_test, y1_test)\n",
        "evaluate_regression_model(\"Modelo 2: Eficiencia Económica\", pipeline_m2, X2_test, y2_test)\n",
        "evaluate_regression_model(\"Modelo 3: Estilo de Movimiento\", pipeline_m3, X3_test, y3_test)"
      ],
      "metadata": {
        "colab": {
          "base_uri": "https://localhost:8080/"
        },
        "id": "5NLM-juDKyEF",
        "outputId": "cd884e7d-1e73-4681-86e6-2e79fc534d5e"
      },
      "execution_count": 26,
      "outputs": [
        {
          "output_type": "stream",
          "name": "stdout",
          "text": [
            "Iniciando evaluación de los 3 modelos...\n",
            "\n",
            "--- Evaluación: Modelo 1: Supervivencia ---\n",
            "R² (R-squared): 0.1139\n",
            "MAE (Mean Absolute Error): 23.7203\n",
            "MSLE (Mean Squared Logarithmic Error): 0.1867\n",
            "------------------------------------------- \n",
            "\n",
            "--- Evaluación: Modelo 2: Eficiencia Económica ---\n",
            "R² (R-squared): 0.0475\n",
            "MAE (Mean Absolute Error): 1754.4464\n",
            "MSLE (Mean Squared Logarithmic Error): 1.4010\n",
            "-------------------------------------------------- \n",
            "\n",
            "--- Evaluación: Modelo 3: Estilo de Movimiento ---\n",
            "R² (R-squared): 0.4785\n",
            "MAE (Mean Absolute Error): 32957.9001\n",
            "MSLE (Mean Squared Logarithmic Error): 6.0661\n",
            "-------------------------------------------------- \n",
            "\n"
          ]
        }
      ]
    }
  ]
}